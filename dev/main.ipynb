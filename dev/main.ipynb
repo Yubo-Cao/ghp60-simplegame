{
 "cells": [
  {
   "cell_type": "code",
   "execution_count": 58,
   "metadata": {
    "ExecuteTime": {
     "end_time": "2023-06-24T03:24:01.491947600Z",
     "start_time": "2023-06-24T03:24:01.458028200Z"
    }
   },
   "outputs": [
    {
     "data": {
      "text/plain": "(5, 0)"
     },
     "execution_count": 58,
     "metadata": {},
     "output_type": "execute_result"
    }
   ],
   "source": [
    "from typing import Generic, TypeVar, overload, NamedTuple\n",
    "\n",
    "import matplotlib.pyplot as plt\n",
    "import numpy as np\n",
    "import pygame as pg\n",
    "\n",
    "pg.init()"
   ]
  },
  {
   "cell_type": "code",
   "execution_count": 59,
   "metadata": {
    "ExecuteTime": {
     "end_time": "2023-06-24T03:24:01.533463900Z",
     "start_time": "2023-06-24T03:24:01.470195100Z"
    }
   },
   "outputs": [],
   "source": [
    "Number = float\n",
    "E = TypeVar(\"E\", bound=Number)\n",
    "\n",
    "\n",
    "class Vector2D(Generic[E]):\n",
    "    def __init__(self, x: Number, y: Number) -> None:\n",
    "        self.x = x\n",
    "        self.y = y\n",
    "\n",
    "    def __add__(self, other: \"Vector2D[E]\") -> \"Vector2D[E]\":\n",
    "        return Vector2D(self.x + other.x, self.y + other.y)\n",
    "\n",
    "    def __sub__(self, other: \"Vector2D[E]\") -> \"Vector2D[E]\":\n",
    "        return Vector2D(self.x - other.x, self.y - other.y)\n",
    "\n",
    "    def __mul__(self, other: E | \"Vector2D[E]\") -> \"Vector2D[E]\":\n",
    "        if isinstance(other, Vector2D):\n",
    "            return Vector2D(self.x * other.x, self.y * other.y)\n",
    "        return Vector2D(self.x * other, self.y * other)\n",
    "\n",
    "    def __matmul__(self, other: \"Vector2D[E]\") -> E:\n",
    "        return self.x * other.x + self.y * other.y  # type: ignore\n",
    "\n",
    "    def dot(self, other: \"Vector2D[E]\") -> E:\n",
    "        return self @ other\n",
    "\n",
    "    def __abs__(self) -> E:\n",
    "        return (self.x ** 2 + self.y ** 2) ** 0.5\n",
    "\n",
    "    def __neg__(self) -> \"Vector2D[E]\":\n",
    "        return Vector2D(-self.x, -self.y)\n",
    "\n",
    "    def __repr__(self) -> str:\n",
    "        return f\"Vector2D({self.x}, {self.y})\"\n",
    "\n",
    "    def __len__(self) -> int:\n",
    "        return 2\n",
    "\n",
    "    def __getitem__(self, index: int) -> E:\n",
    "        return (self.x, self.y)[index]  # type: ignore\n",
    "\n",
    "    def __iter__(self):\n",
    "        yield self.x\n",
    "        yield self.y\n",
    "\n",
    "    def draw_point(self, ax=None, **kwargs) -> None:\n",
    "        ax = ax or plt.gca()\n",
    "        ax.scatter(self[0], self[1], **dict(color=\"red\", s=1) | kwargs)\n",
    "\n",
    "    def draw(self, pos: \"Vector2D[E]\", ax=None, **kwargs) -> None:\n",
    "        ax = ax or plt.gca()\n",
    "        ax.arrow(\n",
    "            pos[0],\n",
    "            pos[1],\n",
    "            self[0],\n",
    "            self[1],\n",
    "            **dict(\n",
    "                head_width=0.5,\n",
    "                head_length=0.5,\n",
    "                fc=\"slategray\",\n",
    "                ec=\"slategray\",\n",
    "            ) | kwargs\n",
    "        )\n",
    "\n",
    "\n",
    "class Rect:\n",
    "    def __init__(self, x: Number, y: Number, w: Number, h: Number) -> None:\n",
    "        self.x = x\n",
    "        self.y = y\n",
    "        self.w = w\n",
    "        self.h = h\n",
    "\n",
    "    @property\n",
    "    def center(self) -> Vector2D:\n",
    "        return Vector2D(self.x + self.w / 2, self.y + self.h / 2)\n",
    "\n",
    "    @property\n",
    "    def centerx(self) -> Number:\n",
    "        return self.x + self.w / 2\n",
    "\n",
    "    @property\n",
    "    def centery(self) -> Number:\n",
    "        return self.y + self.h / 2\n",
    "\n",
    "    @property\n",
    "    def left(self) -> Number:\n",
    "        return self.x\n",
    "\n",
    "    @property\n",
    "    def right(self) -> Number:\n",
    "        return self.x + self.w\n",
    "\n",
    "    @property\n",
    "    def top(self) -> Number:\n",
    "        return self.y\n",
    "\n",
    "    @property\n",
    "    def bottom(self) -> Number:\n",
    "        return self.y + self.h\n",
    "\n",
    "    def collide(self, other: \"Rect\") -> bool:\n",
    "        return (\n",
    "                self.x < other.x + other.w\n",
    "                and self.x + self.w > other.x\n",
    "                and self.y < other.y + other.h\n",
    "                and self.y + self.h > other.y\n",
    "        )\n",
    "\n",
    "    def clip(self, other: \"Rect\") -> \"Rect\":\n",
    "        x = max(self.x, other.x)\n",
    "        y = max(self.y, other.y)\n",
    "        w = min(self.x + self.w, other.x + other.w) - x\n",
    "        h = min(self.y + self.h, other.y + other.h) - y\n",
    "        return Rect(x, y, w, h)\n",
    "\n",
    "    def draw(self, **kwargs) -> None:\n",
    "        plt.gca().add_patch(\n",
    "            plt.Rectangle(\n",
    "                (self.x, self.y),\n",
    "                self.w,\n",
    "                self.h,\n",
    "                **dict(\n",
    "                    linewidth=1,\n",
    "                    edgecolor=\"black\",\n",
    "                    facecolor=\"none\",\n",
    "                ) | kwargs\n",
    "            )\n",
    "        )\n",
    "\n",
    "    @overload\n",
    "    def move(self, x: Number, y: Number) -> \"Rect\":\n",
    "        ...\n",
    "\n",
    "    @overload\n",
    "    def move(self, x: Vector2D, y: None = None) -> \"Rect\":\n",
    "        ...\n",
    "\n",
    "    def move(self, x, y=None):\n",
    "        if isinstance(x, Vector2D):\n",
    "            x, y = x\n",
    "        x = self.x + x\n",
    "        y = self.y + y  # type: ignore\n",
    "        return Rect(x, y, self.w, self.h)"
   ]
  },
  {
   "cell_type": "code",
   "execution_count": 60,
   "metadata": {
    "ExecuteTime": {
     "end_time": "2023-06-24T03:24:01.533463900Z",
     "start_time": "2023-06-24T03:24:01.499112200Z"
    }
   },
   "outputs": [],
   "source": [
    "class RigidBody:\n",
    "    def __init__(\n",
    "            self,\n",
    "            rect: Rect,\n",
    "            pos: Vector2D = Vector2D(0, 0),\n",
    "            vel: Vector2D = Vector2D(0, 0),\n",
    "            acc: Vector2D = Vector2D(0, 0),\n",
    "            mass: Number = 1,\n",
    "    ) -> None:\n",
    "        self.rect = rect\n",
    "        self.pos = pos\n",
    "        self.vel = vel\n",
    "        self.acc = acc\n",
    "        self.mass = mass\n",
    "\n",
    "    def move(self, vec: Vector2D) -> None:\n",
    "        self.pos += vec\n",
    "\n",
    "    def update(self, dt: Number) -> None:\n",
    "        self.vel += self.acc * dt\n",
    "        self.pos += self.vel * dt\n",
    "\n",
    "    def draw(self, ax=None) -> None:\n",
    "        ax = ax or plt.gca()\n",
    "        self.pos.draw_point(ax=ax)\n",
    "        self.vel.draw(self.pos, ax=ax)\n",
    "        self.acc.draw(self.pos, ax=ax)\n",
    "\n",
    "    def __repr__(self) -> str:\n",
    "        return (\n",
    "            f\"RigidBody({self.rect}, {self.pos}, {self.vel}, {self.acc}, {self.mass})\"\n",
    "        )"
   ]
  },
  {
   "cell_type": "code",
   "execution_count": 71,
   "metadata": {
    "ExecuteTime": {
     "end_time": "2023-06-24T03:26:07.280258900Z",
     "start_time": "2023-06-24T03:26:07.246143Z"
    }
   },
   "outputs": [],
   "source": [
    "from typing import NamedTuple\n",
    "\n",
    "import pygame as pg\n",
    "\n",
    "from game.interfaces import Colliable, Renderable, Updatable\n",
    "from game.utils.ds import Rect, Vector2D\n",
    "\n",
    "\n",
    "class RigidBody(Updatable):\n",
    "    GRAVITY_CONSTANT = 9.81\n",
    "    ACCELERATION_DECAY = 0.1\n",
    "\n",
    "    def __init__(self, mass: float, decaying: bool = True, gravity: bool = True):\n",
    "        self.mass = mass\n",
    "        self.acceleration: Vector2D = Vector2D(0, 0)\n",
    "        self.velocity: Vector2D = Vector2D(0, 0)\n",
    "        self.position: Vector2D = Vector2D(0, 0)\n",
    "        self.decaying = decaying\n",
    "        self.gravity = gravity\n",
    "\n",
    "    def apply_force(self, force: Vector2D):\n",
    "        self.acceleration = Vector2D(\n",
    "            self.acceleration[0] + force[0] / self.mass,\n",
    "            self.acceleration[1] + force[1] / self.mass,\n",
    "        )\n",
    "\n",
    "    def update(self, dt: float):\n",
    "        self.position = Vector2D(\n",
    "            self.position[0] + self.velocity[0] * dt,\n",
    "            self.position[1] + self.velocity[1] * dt,\n",
    "        )\n",
    "        self.velocity = Vector2D(\n",
    "            self.velocity[0] + self.acceleration[0] * dt,\n",
    "            self.velocity[1] + self.acceleration[1] * dt,\n",
    "        )\n",
    "        if self.decaying:\n",
    "            self.acceleration = Vector2D(\n",
    "                self.acceleration[0] * (1 - self.ACCELERATION_DECAY),\n",
    "                self.acceleration[1] * (1 - self.ACCELERATION_DECAY),\n",
    "            )\n",
    "        if self.gravity:\n",
    "            self.apply_force(Vector2D(0, self.GRAVITY_CONSTANT * self.mass))\n",
    "\n",
    "    def __repr__(self):\n",
    "        return f\"RigidBody({self.mass}, {self.decaying}, {self.gravity})\"\n",
    "\n",
    "\n",
    "class RigidBodyRect(RigidBody, Renderable, Colliable):\n",
    "    def __init__(self, rect: Rect, *args, **kwargs):\n",
    "        super().__init__(*args, **kwargs)\n",
    "        self.rect = rect\n",
    "\n",
    "    def render(self, surface: pg.Surface):\n",
    "        pg.draw.rect(surface, (255, 0, 0), self.rect)\n",
    "\n",
    "    def update(self, dt: float):\n",
    "        super().update(dt)\n",
    "        self.rect = Rect(\n",
    "            self.position[0],\n",
    "            self.position[1],\n",
    "            self.rect.width,\n",
    "            self.rect.height,\n",
    "        )\n",
    "\n",
    "    def collide(self, other: \"Colliable\") -> bool:\n",
    "        return self.rect.collide(other.get_rect())\n",
    "\n",
    "    def get_rect(self) -> Rect:\n",
    "        return self.rect\n",
    "\n",
    "    def get_velocity(self) -> \"Vector2D\":\n",
    "        return self.velocity\n",
    "\n",
    "    @property\n",
    "    def x(self):\n",
    "        return self.rect.x\n",
    "\n",
    "    @x.setter\n",
    "    def x(self, value):\n",
    "        self.position = Vector2D(value, self.position[1])\n",
    "\n",
    "    @property\n",
    "    def y(self):\n",
    "        return self.rect.y\n",
    "\n",
    "    @y.setter\n",
    "    def y(self, value):\n",
    "        self.position = Vector2D(self.position[0], value)\n",
    "\n",
    "    def __repr__(self):\n",
    "        return f\"RigidBodyRect({self.rect}, {self.mass}g, {self.position}, {self.velocity}, {self.acceleration})\"\n",
    "\n",
    "\n",
    "class ContactResult(NamedTuple):\n",
    "    point: Vector2D\n",
    "    normal: Vector2D\n",
    "    plane: Vector2D\n",
    "    penetration_depth: float\n",
    "    time_of_contact: float\n",
    "\n",
    "\n",
    "ETA = 1e-6\n",
    "\n",
    "def prevent_zero(x: float) -> float:\n",
    "    return x if abs(x) > ETA else ETA if x > 0 else -ETA\n",
    "\n",
    "def calculate_contact(\n",
    "    a: Rect,\n",
    "    b: Rect,\n",
    "    v_a: Vector2D,\n",
    "    v_b: Vector2D,\n",
    ") -> ContactResult:\n",
    "    t_x_enter = (b.left - a.right) / prevent_zero(v_a[0] - v_b[0])\n",
    "    t_x_exit = (b.right - a.left) / prevent_zero(v_a[0] - v_b[0])\n",
    "    t_y_enter = (b.top - a.bottom) / prevent_zero(v_a[1] - v_b[1])\n",
    "    t_y_exit = (b.bottom - a.top) / prevent_zero(v_a[1] - v_b[1])\n",
    "\n",
    "    t_contact = max(min(t_x_enter, t_x_exit), min(t_y_enter, t_y_exit))\n",
    "    t_exit = min(max(t_x_enter, t_x_exit), max(t_y_enter, t_y_exit))\n",
    "\n",
    "    if t_contact > t_exit or t_exit < 0:\n",
    "        raise ValueError(\"No collision\")\n",
    "\n",
    "    penetration = min(\n",
    "        a.right - b.left,\n",
    "        b.right - a.left,\n",
    "        a.bottom - b.top,\n",
    "        b.bottom - a.top,\n",
    "    )\n",
    "    a = a.move(v_a * t_contact)\n",
    "    b = b.move(v_b * t_contact)\n",
    "    xs = sorted([a.left, a.right, b.left, b.right])[1:3]\n",
    "    ys = sorted([a.top, a.bottom, b.top, b.bottom])[1:3]\n",
    "    contact = Vector2D((xs[0] + xs[1]) / 2, (ys[0] + ys[1]) / 2)\n",
    "\n",
    "    normal = Vector2D(\n",
    "        -1 if contact[0] == a.left else 1 if contact[0] == a.right else 0,\n",
    "        1 if contact[1] == a.top else -1 if contact[1] == a.bottom else 0,\n",
    "    )\n",
    "    plane = Vector2D(-normal[1], normal[0])\n",
    "    return ContactResult(contact, normal, plane, penetration, t_contact)\n"
   ]
  },
  {
   "cell_type": "code",
   "execution_count": 72,
   "metadata": {
    "ExecuteTime": {
     "end_time": "2023-06-24T03:26:09.001582800Z",
     "start_time": "2023-06-24T03:26:08.983388800Z"
    }
   },
   "outputs": [],
   "source": [
    "def test_collision(a: Rect, b: Rect, v_a: Vector2D, v_b: Vector2D) -> None:\n",
    "    fig, ax = plt.subplots()\n",
    "\n",
    "    min_x = min(a.x, b.x)\n",
    "    min_y = min(a.y, b.y)\n",
    "    max_x = max(a.x + a.w, b.x + b.w)\n",
    "    max_y = max(a.y + a.h, b.y + b.h)\n",
    "    ax.set_xlim(min_x - 5, max_x + 5)\n",
    "    ax.set_ylim(min_y - 5, max_y + 5)\n",
    "    ax.invert_yaxis()\n",
    "\n",
    "    ax.set_aspect(\"equal\")\n",
    "    v_a.draw(a.center), v_b.draw(b.center)\n",
    "\n",
    "    a.draw(ec=\"brown\"), b.draw(ec=\"orange\")\n",
    "    result = contact_point, normal, plane, penetration, t_contact = calculate_contact(a, b, v_a, v_b)\n",
    "    # print(result)\n",
    "    a.move(v_a * t_contact).draw(ec=\"gray\", ls=\"--\")\n",
    "    b.move(v_b * t_contact).draw(ec=\"gray\", ls=\"--\")\n",
    "\n",
    "    contact_point.draw_point(ec=\"orangered\", fc=\"orangered\", s=4)\n",
    "    normal.draw(contact_point, ec=\"orangered\", fc=\"orangered\")\n",
    "    plane.draw(contact_point, ec=\"orangered\", fc=\"orangered\")\n",
    "\n",
    "    return result"
   ]
  },
  {
   "cell_type": "code",
   "execution_count": 73,
   "metadata": {
    "ExecuteTime": {
     "end_time": "2023-06-24T03:26:09.519836300Z",
     "start_time": "2023-06-24T03:26:09.295659400Z"
    }
   },
   "outputs": [
    {
     "data": {
      "text/plain": "ContactResult(point=<7.5, 7.0>, normal=<0, 1>, plane=<-1, 0>, penetration_depth=-2, time_of_contact=2.0)"
     },
     "execution_count": 73,
     "metadata": {},
     "output_type": "execute_result"
    },
    {
     "data": {
      "text/plain": "<Figure size 640x480 with 1 Axes>",
      "image/png": "[encoded data removed]"
     },
     "metadata": {},
     "output_type": "display_data"
    }
   ],
   "source": [
    "a = Rect(5, 5, 10, 10)\n",
    "b = Rect(2, 2, 2, 1)\n",
    "v_a = Vector2D(1, 1)\n",
    "v_b = Vector2D(2, 2)\n",
    "test_collision(a, b, v_a, v_b)"
   ]
  },
  {
   "cell_type": "code",
   "execution_count": 74,
   "outputs": [
    {
     "data": {
      "text/plain": "ContactResult(point=<2.0, 2.0>, normal=<-1, 1>, plane=<-1, -1>, penetration_depth=1, time_of_contact=-1.0)"
     },
     "execution_count": 74,
     "metadata": {},
     "output_type": "execute_result"
    },
    {
     "data": {
      "text/plain": "<Figure size 640x480 with 1 Axes>",
      "image/png": "[encoded data removed]"
     },
     "metadata": {},
     "output_type": "display_data"
    }
   ],
   "source": [
    "a = Rect(3, 3, 2, 2)\n",
    "b = Rect(2, 2, 2, 2)\n",
    "v_a = Vector2D(1, 1)\n",
    "v_b = Vector2D(2, 2)\n",
    "test_collision(a, b, v_a, v_b)"
   ],
   "metadata": {
    "collapsed": false,
    "ExecuteTime": {
     "end_time": "2023-06-24T03:26:17.016744600Z",
     "start_time": "2023-06-24T03:26:16.844794Z"
    }
   }
  },
  {
   "cell_type": "code",
   "execution_count": 75,
   "outputs": [
    {
     "data": {
      "text/plain": "ContactResult(point=<3.5, 4.75>, normal=<-1, 0>, plane=<0, -1>, penetration_depth=-1, time_of_contact=0.5)"
     },
     "execution_count": 75,
     "metadata": {},
     "output_type": "execute_result"
    },
    {
     "data": {
      "text/plain": "<Figure size 640x480 with 1 Axes>",
      "image/png": "[encoded data removed]"
     },
     "metadata": {},
     "output_type": "display_data"
    }
   ],
   "source": [
    "a = Rect(4, 4, 2, 2)\n",
    "b = Rect(2, 4, 1, 2)\n",
    "v_a = Vector2D(-1, -2)\n",
    "v_b = Vector2D(1, 1)\n",
    "test_collision(a, b, v_a, v_b)"
   ],
   "metadata": {
    "collapsed": false,
    "ExecuteTime": {
     "end_time": "2023-06-24T03:26:17.835427500Z",
     "start_time": "2023-06-24T03:26:17.691642600Z"
    }
   }
  },
  {
   "cell_type": "code",
   "execution_count": null,
   "outputs": [],
   "source": [],
   "metadata": {
    "collapsed": false
   }
  }
 ],
 "metadata": {
  "kernelspec": {
   "display_name": "Python 3",
   "language": "python",
   "name": "python3"
  },
  "language_info": {
   "codemirror_mode": {
    "name": "ipython",
    "version": 3
   },
   "file_extension": ".py",
   "mimetype": "text/x-python",
   "name": "python",
   "nbconvert_exporter": "python",
   "pygments_lexer": "ipython3",
   "version": "3.11.4"
  },
  "orig_nbformat": 4
 },
 "nbformat": 4,
 "nbformat_minor": 2
}
